{
 "cells": [
  {
   "cell_type": "code",
   "execution_count": 1,
   "metadata": {},
   "outputs": [
    {
     "name": "stdout",
     "output_type": "stream",
     "text": [
      "Here is your flag:\n",
      "crypto{z3n_0f_pyth0n}\n"
     ]
    }
   ],
   "source": [
    "## great snake\n",
    "import sys\n",
    "\n",
    "if sys.version_info.major == 2:\n",
    "    print(\n",
    "        \"You are running Python 2, which is no longer supported. Please update to Python 3.\"\n",
    "    )\n",
    "\n",
    "ords = [\n",
    "    81,\n",
    "    64,\n",
    "    75,\n",
    "    66,\n",
    "    70,\n",
    "    93,\n",
    "    73,\n",
    "    72,\n",
    "    1,\n",
    "    92,\n",
    "    109,\n",
    "    2,\n",
    "    84,\n",
    "    109,\n",
    "    66,\n",
    "    75,\n",
    "    70,\n",
    "    90,\n",
    "    2,\n",
    "    92,\n",
    "    79,\n",
    "]\n",
    "\n",
    "print(\"Here is your flag:\")\n",
    "print(\"\".join(chr(o ^ 0x32) for o in ords))"
   ]
  },
  {
   "cell_type": "markdown",
   "metadata": {},
   "source": [
    "ASCII is a 7-bit encoding standard which allows the representation of text using the integers 0-127.\n",
    "\n",
    "Using the below integer array, convert the numbers to their corresponding ASCII characters to obtain a flag.\n",
    "\n",
    "```\n",
    "[99, 114, 121, 112, 116, 111, 123, 65, 83, 67, 73, 73, 95, 112, 114, 49, 110, 116, 52, 98, 108, 51, 125]\n",
    "```"
   ]
  },
  {
   "cell_type": "code",
   "execution_count": 3,
   "metadata": {},
   "outputs": [
    {
     "name": "stdout",
     "output_type": "stream",
     "text": [
      "crypto{ASCII_pr1nt4bl3}\n"
     ]
    }
   ],
   "source": [
    "integer_list = [\n",
    "    99,\n",
    "    114,\n",
    "    121,\n",
    "    112,\n",
    "    116,\n",
    "    111,\n",
    "    123,\n",
    "    65,\n",
    "    83,\n",
    "    67,\n",
    "    73,\n",
    "    73,\n",
    "    95,\n",
    "    112,\n",
    "    114,\n",
    "    49,\n",
    "    110,\n",
    "    116,\n",
    "    52,\n",
    "    98,\n",
    "    108,\n",
    "    51,\n",
    "    125,\n",
    "]\n",
    "\n",
    "print(\"\".join(chr(o) for o in integer_list))"
   ]
  },
  {
   "cell_type": "markdown",
   "metadata": {},
   "source": [
    "When we encrypt something the resulting ciphertext commonly has bytes which are not printable ASCII characters. If we want to share our encrypted data, it's common to encode it into something more user-friendly and portable across different systems.\n",
    "\n",
    "Hexadecimal can be used in such a way to represent ASCII strings. First each letter is converted to an ordinal number according to the ASCII table (as in the previous challenge). Then the decimal numbers are converted to base-16 numbers, otherwise known as hexadecimal. The numbers can be combined together, into one long hex string.\n",
    "\n",
    "Included below is a flag encoded as a hex string. Decode this back into bytes to get the flag.\n",
    "`63727970746f7b596f755f77696c6c5f62655f776f726b696e675f776974685f6865785f737472696e67735f615f6c6f747d`"
   ]
  },
  {
   "cell_type": "code",
   "execution_count": 4,
   "metadata": {},
   "outputs": [
    {
     "name": "stdout",
     "output_type": "stream",
     "text": [
      "b'crypto{You_will_be_working_with_hex_strings_a_lot}'\n"
     ]
    }
   ],
   "source": [
    "flag = \"63727970746f7b596f755f77696c6c5f62655f776f726b696e675f776974685f6865785f737472696e67735f615f6c6f747d\"\n",
    "\n",
    "s = bytes.fromhex(flag)\n",
    "print(s)"
   ]
  },
  {
   "cell_type": "markdown",
   "metadata": {},
   "source": [
    "Another common encoding scheme is Base64, which allows us to represent binary data as an ASCII string using an alphabet of 64 characters. One character of a Base64 string encodes 6 binary digits (bits), and so 4 characters of Base64 encode three 8-bit bytes.\n",
    "\n",
    "Base64 is most commonly used online, so binary data such as images can be easily included into HTML or CSS files.\n",
    "\n",
    "Take the below hex string, decode it into bytes and then encode it into Base64.\n",
    "\n",
    "`72bca9b68fc16ac7beeb8f849dca1d8a783e8acf9679bf9269f7bf`"
   ]
  },
  {
   "cell_type": "code",
   "execution_count": 5,
   "metadata": {},
   "outputs": [
    {
     "name": "stdout",
     "output_type": "stream",
     "text": [
      "b'crypto/Base+64+Encoding+is+Web+Safe/'\n"
     ]
    }
   ],
   "source": [
    "import base64\n",
    "\n",
    "flag = \"72bca9b68fc16ac7beeb8f849dca1d8a783e8acf9679bf9269f7bf\"\n",
    "base64_bytes = base64.b64encode(bytes.fromhex(flag))\n",
    "print(base64_bytes)"
   ]
  },
  {
   "cell_type": "markdown",
   "metadata": {},
   "source": [
    "Cryptosystems like RSA works on numbers, but messages are made up of characters. How should we convert our messages into numbers so that mathematical operations can be applied?\n",
    "\n",
    "The most common way is to take the ordinal bytes of the message, convert them into hexadecimal, and concatenate. This can be interpreted as a base-16/hexadecimal number, and also represented in base-10/decimal.\n",
    "\n",
    "Convert the following integer back into a message:\n",
    "\n",
    "`11515195063862318899931685488813747395775516287289682636499965282714637259206269`"
   ]
  },
  {
   "cell_type": "code",
   "execution_count": 8,
   "metadata": {},
   "outputs": [
    {
     "name": "stdout",
     "output_type": "stream",
     "text": [
      "b'crypto{3nc0d1n6_4ll_7h3_w4y_d0wn}'\n"
     ]
    }
   ],
   "source": [
    "from Crypto.Util.number import *\n",
    "\n",
    "flag = 11515195063862318899931685488813747395775516287289682636499965282714637259206269\n",
    "result = long_to_bytes(flag)\n",
    "print(result)"
   ]
  },
  {
   "cell_type": "markdown",
   "metadata": {},
   "source": [
    "XOR is a bitwise operator which returns 0 if the bits are the same, and 1 otherwise. In textbooks the XOR operator is denoted by $\\oplus$, but in most challenges and programming languages you will see the caret ^ used instead.\n",
    "\n",
    "Given the string label, XOR each character with the integer 13. Convert these integers back to a string and submit the flag as crypto{new_string}."
   ]
  },
  {
   "cell_type": "code",
   "execution_count": 19,
   "metadata": {},
   "outputs": [
    {
     "name": "stdout",
     "output_type": "stream",
     "text": [
      "crypto{aloha}\n",
      "crypto{b'aloha'}\n"
     ]
    }
   ],
   "source": [
    "str = \"label\"\n",
    "xor_str = [ord(s) ^ 13 for s in str]\n",
    "flag = \"\".join([chr(s) for s in xor_str])\n",
    "print(f\"crypto{{{flag}}}\")\n",
    "\n",
    "from pwn import xor\n",
    "\n",
    "print(f\"crypto{{{xor(b'label', 13)}}}\")"
   ]
  },
  {
   "cell_type": "markdown",
   "metadata": {},
   "source": [
    "the XOR have some properties that can be useful for cryptanalysis. \n",
    "\n",
    "- Commutative: $A \\oplus B = B \\oplus A$ \n",
    "- Associative: $A \\oplus (B \\oplus C) = (A \\oplus B) \\oplus C$\n",
    "  - by the Commutative and Associative properties, we can XOR multiple values together in **any order**.\n",
    "- Inverse: $A \\oplus A = 0$\n",
    "- Identity: $A \\oplus 0 = A$"
   ]
  },
  {
   "cell_type": "markdown",
   "metadata": {},
   "source": [
    "```text\n",
    "KEY1 = a6c8b6733c9b22de7bc0253266a3867df55acde8635e19c73313\n",
    "KEY2 ^ KEY1 = 37dcb292030faa90d07eec17e3b1c6d8daf94c35d4c9191a5e1e\n",
    "KEY2 ^ KEY3 = c1545756687e7573db23aa1c3452a098b71a7fbf0fddddde5fc1\n",
    "FLAG ^ KEY1 ^ KEY3 ^ KEY2 = 04ee9855208a2cd59091d04767ae47963170d1660df7f56f5faf\n",
    "```\n"
   ]
  },
  {
   "cell_type": "code",
   "execution_count": 22,
   "metadata": {},
   "outputs": [
    {
     "name": "stdout",
     "output_type": "stream",
     "text": [
      "b'crypto{x0r_i5_ass0c1at1v3}'\n"
     ]
    }
   ],
   "source": [
    "from pwn import xor\n",
    "\n",
    "KEY1 = bytes.fromhex(\"a6c8b6733c9b22de7bc0253266a3867df55acde8635e19c73313\")\n",
    "KEY2 = xor(bytes.fromhex(\"37dcb292030faa90d07eec17e3b1c6d8daf94c35d4c9191a5e1e\"), KEY1)\n",
    "KEY3 = xor(bytes.fromhex(\"c1545756687e7573db23aa1c3452a098b71a7fbf0fddddde5fc1\"), KEY2)\n",
    "FLAG = xor(\n",
    "    bytes.fromhex(\"04ee9855208a2cd59091d04767ae47963170d1660df7f56f5faf\"),\n",
    "    KEY1,\n",
    "    KEY2,\n",
    "    KEY3,\n",
    ")\n",
    "print(FLAG)"
   ]
  }
 ],
 "metadata": {
  "kernelspec": {
   "display_name": "test",
   "language": "python",
   "name": "python3"
  },
  "language_info": {
   "codemirror_mode": {
    "name": "ipython",
    "version": 3
   },
   "file_extension": ".py",
   "mimetype": "text/x-python",
   "name": "python",
   "nbconvert_exporter": "python",
   "pygments_lexer": "ipython3",
   "version": "3.11.9"
  }
 },
 "nbformat": 4,
 "nbformat_minor": 2
}
