{
 "cells": [
  {
   "cell_type": "code",
   "execution_count": 1,
   "metadata": {},
   "outputs": [
    {
     "name": "stdout",
     "output_type": "stream",
     "text": [
      "Here is your flag:\n",
      "crypto{z3n_0f_pyth0n}\n"
     ]
    }
   ],
   "source": [
    "## great snake\n",
    "import sys\n",
    "\n",
    "if sys.version_info.major == 2:\n",
    "    print(\n",
    "        \"You are running Python 2, which is no longer supported. Please update to Python 3.\"\n",
    "    )\n",
    "\n",
    "ords = [\n",
    "    81,\n",
    "    64,\n",
    "    75,\n",
    "    66,\n",
    "    70,\n",
    "    93,\n",
    "    73,\n",
    "    72,\n",
    "    1,\n",
    "    92,\n",
    "    109,\n",
    "    2,\n",
    "    84,\n",
    "    109,\n",
    "    66,\n",
    "    75,\n",
    "    70,\n",
    "    90,\n",
    "    2,\n",
    "    92,\n",
    "    79,\n",
    "]\n",
    "\n",
    "print(\"Here is your flag:\")\n",
    "print(\"\".join(chr(o ^ 0x32) for o in ords))"
   ]
  },
  {
   "cell_type": "markdown",
   "metadata": {},
   "source": [
    "ASCII is a 7-bit encoding standard which allows the representation of text using the integers 0-127.\n",
    "\n",
    "Using the below integer array, convert the numbers to their corresponding ASCII characters to obtain a flag.\n",
    "\n",
    "```\n",
    "[99, 114, 121, 112, 116, 111, 123, 65, 83, 67, 73, 73, 95, 112, 114, 49, 110, 116, 52, 98, 108, 51, 125]\n",
    "```"
   ]
  },
  {
   "cell_type": "code",
   "execution_count": 3,
   "metadata": {},
   "outputs": [
    {
     "name": "stdout",
     "output_type": "stream",
     "text": [
      "crypto{ASCII_pr1nt4bl3}\n"
     ]
    }
   ],
   "source": [
    "integer_list = [\n",
    "    99,\n",
    "    114,\n",
    "    121,\n",
    "    112,\n",
    "    116,\n",
    "    111,\n",
    "    123,\n",
    "    65,\n",
    "    83,\n",
    "    67,\n",
    "    73,\n",
    "    73,\n",
    "    95,\n",
    "    112,\n",
    "    114,\n",
    "    49,\n",
    "    110,\n",
    "    116,\n",
    "    52,\n",
    "    98,\n",
    "    108,\n",
    "    51,\n",
    "    125,\n",
    "]\n",
    "\n",
    "print(\"\".join(chr(o) for o in integer_list))"
   ]
  }
 ],
 "metadata": {
  "kernelspec": {
   "display_name": "test",
   "language": "python",
   "name": "python3"
  },
  "language_info": {
   "codemirror_mode": {
    "name": "ipython",
    "version": 3
   },
   "file_extension": ".py",
   "mimetype": "text/x-python",
   "name": "python",
   "nbconvert_exporter": "python",
   "pygments_lexer": "ipython3",
   "version": "3.11.9"
  }
 },
 "nbformat": 4,
 "nbformat_minor": 2
}
