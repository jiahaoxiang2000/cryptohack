{
 "cells": [
  {
   "cell_type": "code",
   "execution_count": 1,
   "metadata": {},
   "outputs": [
    {
     "name": "stdout",
     "output_type": "stream",
     "text": [
      "Here is your flag:\n",
      "crypto{z3n_0f_pyth0n}\n"
     ]
    }
   ],
   "source": [
    "## great snake\n",
    "import sys\n",
    "\n",
    "if sys.version_info.major == 2:\n",
    "    print(\n",
    "        \"You are running Python 2, which is no longer supported. Please update to Python 3.\"\n",
    "    )\n",
    "\n",
    "ords = [\n",
    "    81,\n",
    "    64,\n",
    "    75,\n",
    "    66,\n",
    "    70,\n",
    "    93,\n",
    "    73,\n",
    "    72,\n",
    "    1,\n",
    "    92,\n",
    "    109,\n",
    "    2,\n",
    "    84,\n",
    "    109,\n",
    "    66,\n",
    "    75,\n",
    "    70,\n",
    "    90,\n",
    "    2,\n",
    "    92,\n",
    "    79,\n",
    "]\n",
    "\n",
    "print(\"Here is your flag:\")\n",
    "print(\"\".join(chr(o ^ 0x32) for o in ords))"
   ]
  },
  {
   "cell_type": "markdown",
   "metadata": {},
   "source": [
    "ASCII is a 7-bit encoding standard which allows the representation of text using the integers 0-127.\n",
    "\n",
    "Using the below integer array, convert the numbers to their corresponding ASCII characters to obtain a flag.\n",
    "\n",
    "```\n",
    "[99, 114, 121, 112, 116, 111, 123, 65, 83, 67, 73, 73, 95, 112, 114, 49, 110, 116, 52, 98, 108, 51, 125]\n",
    "```"
   ]
  },
  {
   "cell_type": "code",
   "execution_count": 3,
   "metadata": {},
   "outputs": [
    {
     "name": "stdout",
     "output_type": "stream",
     "text": [
      "crypto{ASCII_pr1nt4bl3}\n"
     ]
    }
   ],
   "source": [
    "integer_list = [\n",
    "    99,\n",
    "    114,\n",
    "    121,\n",
    "    112,\n",
    "    116,\n",
    "    111,\n",
    "    123,\n",
    "    65,\n",
    "    83,\n",
    "    67,\n",
    "    73,\n",
    "    73,\n",
    "    95,\n",
    "    112,\n",
    "    114,\n",
    "    49,\n",
    "    110,\n",
    "    116,\n",
    "    52,\n",
    "    98,\n",
    "    108,\n",
    "    51,\n",
    "    125,\n",
    "]\n",
    "\n",
    "print(\"\".join(chr(o) for o in integer_list))"
   ]
  },
  {
   "cell_type": "markdown",
   "metadata": {},
   "source": [
    "When we encrypt something the resulting ciphertext commonly has bytes which are not printable ASCII characters. If we want to share our encrypted data, it's common to encode it into something more user-friendly and portable across different systems.\n",
    "\n",
    "Hexadecimal can be used in such a way to represent ASCII strings. First each letter is converted to an ordinal number according to the ASCII table (as in the previous challenge). Then the decimal numbers are converted to base-16 numbers, otherwise known as hexadecimal. The numbers can be combined together, into one long hex string.\n",
    "\n",
    "Included below is a flag encoded as a hex string. Decode this back into bytes to get the flag.\n",
    "`63727970746f7b596f755f77696c6c5f62655f776f726b696e675f776974685f6865785f737472696e67735f615f6c6f747d`"
   ]
  },
  {
   "cell_type": "code",
   "execution_count": 4,
   "metadata": {},
   "outputs": [
    {
     "name": "stdout",
     "output_type": "stream",
     "text": [
      "b'crypto{You_will_be_working_with_hex_strings_a_lot}'\n"
     ]
    }
   ],
   "source": [
    "flag = \"63727970746f7b596f755f77696c6c5f62655f776f726b696e675f776974685f6865785f737472696e67735f615f6c6f747d\"\n",
    "\n",
    "s = bytes.fromhex(flag)\n",
    "print(s)"
   ]
  }
 ],
 "metadata": {
  "kernelspec": {
   "display_name": "test",
   "language": "python",
   "name": "python3"
  },
  "language_info": {
   "codemirror_mode": {
    "name": "ipython",
    "version": 3
   },
   "file_extension": ".py",
   "mimetype": "text/x-python",
   "name": "python",
   "nbconvert_exporter": "python",
   "pygments_lexer": "ipython3",
   "version": "3.11.9"
  }
 },
 "nbformat": 4,
 "nbformat_minor": 2
}
